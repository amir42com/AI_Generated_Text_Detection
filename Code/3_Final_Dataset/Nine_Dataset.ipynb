{
 "cells": [
  {
   "cell_type": "code",
   "execution_count": null,
   "id": "nM4wbtBPwTKU",
   "metadata": {
    "id": "nM4wbtBPwTKU"
   },
   "outputs": [],
   "source": [
    "import pandas as pd\n",
    "import os\n",
    "import glob"
   ]
  },
  {
   "cell_type": "code",
   "execution_count": null,
   "id": "f6ebb7bd-8f8a-4986-bd05-93dd1c6e4c56",
   "metadata": {
    "id": "f6ebb7bd-8f8a-4986-bd05-93dd1c6e4c56",
    "outputId": "160de62a-75f8-401a-bb02-097e70f3b429"
   },
   "outputs": [
    {
     "name": "stdout",
     "output_type": "stream",
     "text": [
      "Saved merged file at C:/Users/amirm/Desktop/MONASH/Thesis/Working/Prepare/Code/9_Dataset\\English_(open-mistral-7b).csv\n",
      "Saved merged file at C:/Users/amirm/Desktop/MONASH/Thesis/Working/Prepare/Code/9_Dataset\\English_(gemini-pro).csv\n",
      "Saved merged file at C:/Users/amirm/Desktop/MONASH/Thesis/Working/Prepare/Code/9_Dataset\\English_(gpt-3.5-turbo-0125).csv\n",
      "Saved merged file at C:/Users/amirm/Desktop/MONASH/Thesis/Working/Prepare/Code/9_Dataset\\French_(open-mistral-7b).csv\n",
      "Saved merged file at C:/Users/amirm/Desktop/MONASH/Thesis/Working/Prepare/Code/9_Dataset\\French_(gemini-pro).csv\n",
      "Saved merged file at C:/Users/amirm/Desktop/MONASH/Thesis/Working/Prepare/Code/9_Dataset\\French_(gpt-3.5-turbo-0125).csv\n",
      "Saved merged file at C:/Users/amirm/Desktop/MONASH/Thesis/Working/Prepare/Code/9_Dataset\\Spanish_(open-mistral-7b).csv\n",
      "Saved merged file at C:/Users/amirm/Desktop/MONASH/Thesis/Working/Prepare/Code/9_Dataset\\Spanish_(gemini-pro).csv\n",
      "Saved merged file at C:/Users/amirm/Desktop/MONASH/Thesis/Working/Prepare/Code/9_Dataset\\Spanish_(gpt-3.5-turbo-0125).csv\n"
     ]
    }
   ],
   "source": [
    "def find_and_merge_files(input_dir, output_dir, language, model):\n",
    "    # Define patterns to match files\n",
    "    ai_pattern = f\"{language}_Ai_({model})\"\n",
    "    human_pattern = f\"{language}_Human\"\n",
    "\n",
    "    # Find all matching AI model files\n",
    "    ai_files = glob.glob(os.path.join(input_dir, f\"*{ai_pattern}*.csv\"))\n",
    "    # Find all matching human annotation files\n",
    "    human_files = glob.glob(os.path.join(input_dir, f\"*{human_pattern}*.csv\"))\n",
    "\n",
    "    # Combine all files to merge\n",
    "    all_files = ai_files + human_files\n",
    "\n",
    "    # Load all files into dataframes\n",
    "    dataframes = []\n",
    "    for file_path in all_files:\n",
    "        df = pd.read_csv(file_path)\n",
    "        dataframes.append(df)\n",
    "\n",
    "    # Concatenate all dataframes\n",
    "    merged_df = pd.concat(dataframes, ignore_index=True)\n",
    "\n",
    "    # Ensure the output directory exists\n",
    "    os.makedirs(output_dir, exist_ok=True)\n",
    "\n",
    "    # Save the merged dataframe to a new CSV file\n",
    "    output_filename = f\"{language}_({model}).csv\"\n",
    "    output_path = os.path.join(output_dir, output_filename)\n",
    "    merged_df.to_csv(output_path, index=False)\n",
    "    print(f\"Saved merged file at {output_path}\")\n",
    "\n",
    "#--------------------------------------\n",
    "\n",
    "input_directory = 'C:/Users/amirm/Desktop/MONASH/Thesis/Working/Prepare/Code/Gen_Ai_Text/Combine_Datasets/Output_Files'\n",
    "output_directory = 'C:/Users/amirm/Desktop/MONASH/Thesis/Working/Prepare/Code/9_Dataset'\n",
    "\n",
    "# Define the languages, models, and corresponding output names\n",
    "merge_configs = [\n",
    "    {'language': 'English', 'model': 'open-mistral-7b'},\n",
    "    {'language': 'English', 'model': 'gemini-pro'},\n",
    "    {'language': 'English', 'model': 'gpt-3.5-turbo-0125'},\n",
    "    {'language': 'French', 'model': 'open-mistral-7b'},\n",
    "    {'language': 'French', 'model': 'gemini-pro'},\n",
    "    {'language': 'French', 'model': 'gpt-3.5-turbo-0125'},\n",
    "    {'language': 'Spanish', 'model': 'open-mistral-7b'},\n",
    "    {'language': 'Spanish', 'model': 'gemini-pro'},\n",
    "    {'language': 'Spanish', 'model': 'gpt-3.5-turbo-0125'}\n",
    "]\n",
    "\n",
    "# Execute merging for each configuration\n",
    "for config in merge_configs:\n",
    "    find_and_merge_files(input_directory, output_directory, config['language'], config['model'])\n"
   ]
  }
 ],
 "metadata": {
  "accelerator": "TPU",
  "colab": {
   "gpuType": "V28",
   "machine_shape": "hm",
   "provenance": []
  },
  "kernelspec": {
   "display_name": "Python 3 (ipykernel)",
   "language": "python",
   "name": "python3"
  },
  "language_info": {
   "codemirror_mode": {
    "name": "ipython",
    "version": 3
   },
   "file_extension": ".py",
   "mimetype": "text/x-python",
   "name": "python",
   "nbconvert_exporter": "python",
   "pygments_lexer": "ipython3",
   "version": "3.11.8"
  }
 },
 "nbformat": 4,
 "nbformat_minor": 5
}
