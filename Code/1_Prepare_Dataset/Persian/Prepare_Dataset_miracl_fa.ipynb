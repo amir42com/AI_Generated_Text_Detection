{
 "cells": [
  {
   "cell_type": "code",
   "execution_count": null,
   "id": "d315b7cb-5aa7-47c2-8d56-81fa0506baad",
   "metadata": {},
   "outputs": [],
   "source": [
    "# !git clone https://huggingface.co/datasets/miracl/miracl-corpus"
   ]
  },
  {
   "cell_type": "code",
   "execution_count": null,
   "id": "3eb4d764-42b9-44d2-8256-6cdc028be414",
   "metadata": {},
   "outputs": [],
   "source": [
    "# !pip install pandas"
   ]
  },
  {
   "cell_type": "code",
   "execution_count": null,
   "id": "24e6f78a-978e-4daf-a6f2-14fcc49487ee",
   "metadata": {},
   "outputs": [],
   "source": [
    "# pip install matplotlib"
   ]
  },
  {
   "cell_type": "code",
   "execution_count": null,
   "id": "792c4f1d-0318-4075-9800-00ef5df94020",
   "metadata": {},
   "outputs": [],
   "source": [
    "# pip install seaborn"
   ]
  },
  {
   "cell_type": "code",
   "execution_count": 1,
   "id": "ecb894f9-0d9a-4290-b922-57b44d446f68",
   "metadata": {},
   "outputs": [],
   "source": [
    "import os\n",
    "import glob\n",
    "import json\n",
    "import pandas as pd\n",
    "import numpy as np\n",
    "import matplotlib.pyplot as plt\n",
    "import seaborn as sns"
   ]
  },
  {
   "cell_type": "code",
   "execution_count": 2,
   "id": "f6000759-634a-4259-b2cf-dfcc1f05123a",
   "metadata": {},
   "outputs": [],
   "source": [
    "def merge_json_to_csv(json_folder_path, output_csv_path):\n",
    "    \"\"\"\n",
    "    Merges JSON files into a single CSV file.\n",
    "\n",
    "    Parameters:\n",
    "    - json_folder_path: The folder path where the JSON files are stored.\n",
    "    - output_csv_path: The path to save the merged CSV file.\n",
    "    \"\"\"\n",
    "    json_pattern = os.path.join(json_folder_path, 'docs-*.jsonl')  # Adjust the pattern\n",
    "\n",
    "    # Find all JSON files matching the pattern\n",
    "    json_files = glob.glob(json_pattern)\n",
    "\n",
    "    # Initialize an empty list to store the data\n",
    "    data = []\n",
    "\n",
    "    # Loop through the list of files\n",
    "    for file in json_files:\n",
    "        with open(file, 'r', encoding='utf-8') as f:\n",
    "            for line in f:  # Each file contains multiple JSON objects, one per line\n",
    "                json_obj = json.loads(line)  # Convert JSON string to Python dictionary\n",
    "                data.append(json_obj)  # Add the dictionary to our list\n",
    "\n",
    "    # Convert the list of dictionaries to a pandas DataFrame\n",
    "    df = pd.DataFrame(data)\n",
    "\n",
    "    # Save the DataFrame to a CSV file\n",
    "    df.to_csv(output_csv_path, index=False, encoding='utf-8')\n",
    "\n",
    "    print(f'Merged CSV file has been saved to: {output_csv_path}')\n"
   ]
  },
  {
   "cell_type": "code",
   "execution_count": 3,
   "id": "04229b5a-c180-40ed-948d-1c01d8757356",
   "metadata": {},
   "outputs": [
    {
     "name": "stdout",
     "output_type": "stream",
     "text": [
      "Merged CSV file has been saved to: C:/Users/amirm/Desktop/MONASH/Thesis/Working/Datasets/miracl/miracl-corpus-v1.0-fa\\1_merged_data.csv\n"
     ]
    }
   ],
   "source": [
    "# Define the path to JSON files and the output CSV file path\n",
    "json_folder_path = r'C:/Users/amirm/Desktop/MONASH/Thesis/Working/Prepare/Original_Datasets/miracl/miracl-corpus-v1.0-fa'\n",
    "output_csv_path = os.path.join(json_folder_path, '1_merged_data.csv')\n",
    "\n",
    "# Call the function\n",
    "merge_json_to_csv(json_folder_path, output_csv_path)"
   ]
  },
  {
   "cell_type": "code",
   "execution_count": 2,
   "id": "d7347498-ca08-4f3d-ad1a-e625098867ca",
   "metadata": {},
   "outputs": [],
   "source": [
    "# The actual path merged CSV file\n",
    "csv_path = 'C:/Users/amirm/Desktop/MONASH/Thesis/Working/Prepare/Original_Datasets/miracl/miracl-corpus-v1.0-fa/1_merged_data.csv'\n",
    "\n",
    "df = pd.read_csv(csv_path, encoding='utf-8')\n"
   ]
  },
  {
   "cell_type": "code",
   "execution_count": 3,
   "id": "85d39c25-4895-4ee3-9f6e-e91cdfcee18b",
   "metadata": {},
   "outputs": [
    {
     "name": "stdout",
     "output_type": "stream",
     "text": [
      "Total rows: 2207172\n"
     ]
    }
   ],
   "source": [
    "total_rows = len(df)\n",
    "print(f'Total rows: {total_rows}')\n"
   ]
  },
  {
   "cell_type": "code",
   "execution_count": 4,
   "id": "b291b540-77b6-4177-af2d-f3ed2865b455",
   "metadata": {},
   "outputs": [
    {
     "name": "stdout",
     "output_type": "stream",
     "text": [
      "Unique titles: 857825\n"
     ]
    }
   ],
   "source": [
    "unique_titles = df['title'].nunique()\n",
    "print(f'Unique titles: {unique_titles}')\n"
   ]
  },
  {
   "cell_type": "code",
   "execution_count": 5,
   "id": "da2e038e-d0d8-406a-bc4a-1e529830c427",
   "metadata": {},
   "outputs": [
    {
     "name": "stdout",
     "output_type": "stream",
     "text": [
      "count    2.207172e+06\n",
      "mean     4.661076e+01\n",
      "std      5.477408e+01\n",
      "min      1.000000e+00\n",
      "25%      1.500000e+01\n",
      "50%      2.800000e+01\n",
      "75%      5.900000e+01\n",
      "max      6.747000e+03\n",
      "Name: word_count, dtype: float64\n"
     ]
    },
    {
     "data": {
      "image/png": "[encoded data removed]",
      "text/plain": [
       "<Figure size 640x480 with 1 Axes>"
      ]
     },
     "metadata": {},
     "output_type": "display_data"
    }
   ],
   "source": [
    "# Calculate the word count for each 'text'\n",
    "df['word_count'] = df['text'].apply(lambda x: len(str(x).split()))\n",
    "\n",
    "# Descriptive statistics for word counts\n",
    "stats = df['word_count'].describe()\n",
    "print(stats)\n",
    "\n",
    "# Plotting a boxplot for the word counts\n",
    "sns.boxplot(x=df['word_count'])\n",
    "plt.title('Word Count Distribution for Persian Wikipedia')\n",
    "plt.xlabel('Word Count')\n",
    "# limit the x-axis to remove extreme outliers for better visualization\n",
    "plt.xlim(0, stats[\"75%\"] + 1.5 * (stats[\"75%\"] - stats[\"25%\"]))  # This limits the view to the typical range of data\n",
    "plt.show()"
   ]
  },
  {
   "cell_type": "code",
   "execution_count": 6,
   "id": "fe868f04-964b-45e7-944d-7430b8d2d73c",
   "metadata": {},
   "outputs": [],
   "source": [
    "def select_random_unique_titles_save_csv(df, num_titles, min_word_count, max_word_count, random_seed, output_csv_path):\n",
    "    \"\"\"\n",
    "    Selects a specified number of random rows with unique titles from a DataFrame, where each selected row's 'text' has\n",
    "    more than 'min_word_count' words and less than or equal to 'max_word_count' words, and saves the result to a CSV file.\n",
    "\n",
    "    Parameters:\n",
    "    - df: pandas DataFrame containing the data.\n",
    "    - num_titles: The number of unique titles to select.\n",
    "    - min_word_count: Minimum number of words required in the 'text' column to consider a row for selection.\n",
    "    - max_word_count: Maximum number of words allowed in the 'text' column to consider a row for selection.\n",
    "    - random_seed: The seed for the random number generator to ensure reproducibility. \n",
    "    - output_csv_path: The path to save the output CSV file. \n",
    "\n",
    "    Returns:\n",
    "    - A pandas DataFrame containing the selected rows, also saved as a CSV file.\n",
    "    \"\"\"\n",
    "    # Set a seed for reproducibility\n",
    "    np.random.seed(random_seed)\n",
    "\n",
    "    # Filter the DataFrame to only include rows with 'text' longer than 'min_word_count' and less than or equal to 'max_word_count' words\n",
    "    # Convert all values in 'text' column to string to avoid AttributeError\n",
    "    df['word_count'] = df['text'].apply(lambda x: len(str(x).split()) if pd.notnull(x) else 0)\n",
    "    # Replace the newline characters with a space\n",
    "    df['text'] = df['text'].str.replace('\\n', ' ')\n",
    "    df_filtered = df[(df['word_count'] > min_word_count) & (df['word_count'] <= max_word_count)]\n",
    "\n",
    "    # Shuffle the filtered dataset\n",
    "    df_shuffled = df_filtered.sample(frac=1).reset_index(drop=True)\n",
    "\n",
    "    # Select unique titles randomly from the filtered set\n",
    "    unique_titles = df_shuffled['title'].unique()[:num_titles]\n",
    "\n",
    "    # Initialize an empty DataFrame to store selected rows\n",
    "    selected_rows = pd.DataFrame()\n",
    "\n",
    "    for title in unique_titles:\n",
    "        # For each title, randomly select a row from the filtered set\n",
    "        rows = df_shuffled[df_shuffled['title'] == title].sample(n=1)\n",
    "        selected_rows = pd.concat([selected_rows, rows], ignore_index=True)\n",
    "\n",
    "    # Drop the 'word_count' column added for filtering\n",
    "    selected_rows = selected_rows.drop(columns=['word_count'])\n",
    "\n",
    "    # Save the selected rows to a new CSV file\n",
    "    selected_rows.to_csv(output_csv_path, index=False, encoding='utf-8')\n",
    "    \n",
    "    print(f'Selected rows saved to {output_csv_path}')\n",
    "\n",
    "    return selected_rows\n"
   ]
  },
  {
   "cell_type": "code",
   "execution_count": 7,
   "id": "bb229513-edc5-45fb-bda8-103f92a7c859",
   "metadata": {},
   "outputs": [
    {
     "name": "stdout",
     "output_type": "stream",
     "text": [
      "Selected rows saved to C:/Users/amirm/Desktop/MONASH/Thesis/Working/Prepare/Original_Datasets/miracl/miracl-corpus-v1.0-fa/2_selected_unique_titles.csv\n"
     ]
    }
   ],
   "source": [
    "# Specify the output CSV file name/path\n",
    "output_csv_name = 'C:/Users/amirm/Desktop/MONASH/Thesis/Working/Prepare/Original_Datasets/miracl/miracl-corpus-v1.0-fa/2_selected_unique_titles.csv'\n",
    "\n",
    "# Call the function with the DataFrame, desired parameters, and output file name\n",
    "selected_rows = select_random_unique_titles_save_csv(df, num_titles=2000,\n",
    "                                                     min_word_count=50, \n",
    "                                                     max_word_count=100, \n",
    "                                                     random_seed=42, \n",
    "                                                     output_csv_path=output_csv_name)\n"
   ]
  },
  {
   "cell_type": "code",
   "execution_count": 8,
   "id": "4449a0cf-1eac-468a-95bd-f0ce2363ba02",
   "metadata": {},
   "outputs": [
    {
     "data": {
      "text/html": [
       "<div>\n",
       "<style scoped>\n",
       "    .dataframe tbody tr th:only-of-type {\n",
       "        vertical-align: middle;\n",
       "    }\n",
       "\n",
       "    .dataframe tbody tr th {\n",
       "        vertical-align: top;\n",
       "    }\n",
       "\n",
       "    .dataframe thead th {\n",
       "        text-align: right;\n",
       "    }\n",
       "</style>\n",
       "<table border=\"1\" class=\"dataframe\">\n",
       "  <thead>\n",
       "    <tr style=\"text-align: right;\">\n",
       "      <th></th>\n",
       "      <th>docid</th>\n",
       "      <th>title</th>\n",
       "      <th>text</th>\n",
       "    </tr>\n",
       "  </thead>\n",
       "  <tbody>\n",
       "    <tr>\n",
       "      <th>0</th>\n",
       "      <td>717628#1</td>\n",
       "      <td>تومور مغزی</td>\n",
       "      <td>تومورهای مغزی، تمامی تومورهای داخل جمجمه یا تو...</td>\n",
       "    </tr>\n",
       "    <tr>\n",
       "      <th>1</th>\n",
       "      <td>304263#13</td>\n",
       "      <td>پیمان فتاحی</td>\n",
       "      <td>«وی بعدها به سمت مطالعه کتب و نوشتارهای مرتبط ...</td>\n",
       "    </tr>\n",
       "    <tr>\n",
       "      <th>2</th>\n",
       "      <td>3020392#1</td>\n",
       "      <td>گسترش ارتباطات سپنتا</td>\n",
       "      <td>شرکت سپنتا در سال ۱۳۷۸ با نام رسمی شرکت مهرگان...</td>\n",
       "    </tr>\n",
       "    <tr>\n",
       "      <th>3</th>\n",
       "      <td>161153#1</td>\n",
       "      <td>جوزف باربرا</td>\n",
       "      <td>جوزف باربرا در ۲۴ مارس ۱۹۱۱ متولد شد. باربرا د...</td>\n",
       "    </tr>\n",
       "    <tr>\n",
       "      <th>4</th>\n",
       "      <td>5444284#4</td>\n",
       "      <td>ورزش در ارمنستان</td>\n",
       "      <td>ارمنستان قبلاً در سطح بین‌المللی به عنوان بخشی...</td>\n",
       "    </tr>\n",
       "    <tr>\n",
       "      <th>...</th>\n",
       "      <td>...</td>\n",
       "      <td>...</td>\n",
       "      <td>...</td>\n",
       "    </tr>\n",
       "    <tr>\n",
       "      <th>1995</th>\n",
       "      <td>216629#1</td>\n",
       "      <td>نیویورک دالز</td>\n",
       "      <td>نیویورک دالز، بیشتر آنچه را که قرار بود در دور...</td>\n",
       "    </tr>\n",
       "    <tr>\n",
       "      <th>1996</th>\n",
       "      <td>965653#1</td>\n",
       "      <td>زمین‌لرزه ۱۹۸۴ چین</td>\n",
       "      <td>سازمان زمین‌شناسی آمریکا نیز رومرکز این زمین‌ل...</td>\n",
       "    </tr>\n",
       "    <tr>\n",
       "      <th>1997</th>\n",
       "      <td>3574615#0</td>\n",
       "      <td>محمد علی بهجت</td>\n",
       "      <td>شیخ محمد علی بهجت سیاست‌مدار ایرانی و نماینده ...</td>\n",
       "    </tr>\n",
       "    <tr>\n",
       "      <th>1998</th>\n",
       "      <td>5204139#0</td>\n",
       "      <td>پمپ رینگ-مایع</td>\n",
       "      <td>پمپ رینگ مایع یک پمپ چرخش جابجایی مثبت می‌باشد...</td>\n",
       "    </tr>\n",
       "    <tr>\n",
       "      <th>1999</th>\n",
       "      <td>289671#3</td>\n",
       "      <td>نشانه‌گذاری</td>\n",
       "      <td>محمدبن ابی‌یزید طیفور ملقب به شمس‌الدین و مکنی...</td>\n",
       "    </tr>\n",
       "  </tbody>\n",
       "</table>\n",
       "<p>2000 rows × 3 columns</p>\n",
       "</div>"
      ],
      "text/plain": [
       "          docid                 title  \\\n",
       "0      717628#1            تومور مغزی   \n",
       "1     304263#13           پیمان فتاحی   \n",
       "2     3020392#1  گسترش ارتباطات سپنتا   \n",
       "3      161153#1           جوزف باربرا   \n",
       "4     5444284#4      ورزش در ارمنستان   \n",
       "...         ...                   ...   \n",
       "1995   216629#1          نیویورک دالز   \n",
       "1996   965653#1    زمین‌لرزه ۱۹۸۴ چین   \n",
       "1997  3574615#0         محمد علی بهجت   \n",
       "1998  5204139#0         پمپ رینگ-مایع   \n",
       "1999   289671#3           نشانه‌گذاری   \n",
       "\n",
       "                                                   text  \n",
       "0     تومورهای مغزی، تمامی تومورهای داخل جمجمه یا تو...  \n",
       "1     «وی بعدها به سمت مطالعه کتب و نوشتارهای مرتبط ...  \n",
       "2     شرکت سپنتا در سال ۱۳۷۸ با نام رسمی شرکت مهرگان...  \n",
       "3     جوزف باربرا در ۲۴ مارس ۱۹۱۱ متولد شد. باربرا د...  \n",
       "4     ارمنستان قبلاً در سطح بین‌المللی به عنوان بخشی...  \n",
       "...                                                 ...  \n",
       "1995  نیویورک دالز، بیشتر آنچه را که قرار بود در دور...  \n",
       "1996  سازمان زمین‌شناسی آمریکا نیز رومرکز این زمین‌ل...  \n",
       "1997  شیخ محمد علی بهجت سیاست‌مدار ایرانی و نماینده ...  \n",
       "1998  پمپ رینگ مایع یک پمپ چرخش جابجایی مثبت می‌باشد...  \n",
       "1999  محمدبن ابی‌یزید طیفور ملقب به شمس‌الدین و مکنی...  \n",
       "\n",
       "[2000 rows x 3 columns]"
      ]
     },
     "execution_count": 8,
     "metadata": {},
     "output_type": "execute_result"
    }
   ],
   "source": [
    "selected_rows"
   ]
  },
  {
   "cell_type": "code",
   "execution_count": 9,
   "id": "c6ae1c26-fc0f-40be-964e-add96c7547df",
   "metadata": {},
   "outputs": [],
   "source": [
    "def modify_and_save_df(df, output_csv_path, additional_columns_info=None):\n",
    "    \"\"\"\n",
    "    Modifies the DataFrame by selecting specific columns, adding new ones, and saves to a CSV file.\n",
    "    \n",
    "    Parameters:\n",
    "    - df: The DataFrame to be modified.\n",
    "    - output_csv_path: The path (including filename) where the modified DataFrame should be saved as a CSV.\n",
    "    - additional_columns_info: Dictionary with column names as keys and default values as values. Optional.\n",
    "    \n",
    "    Returns:\n",
    "    - The modified DataFrame.\n",
    "    \"\"\"\n",
    "    # Select only \"title\" and \"text\" columns if they exist in the DataFrame\n",
    "    if {'title', 'text'}.issubset(df.columns):\n",
    "        df_modified = df[['title', 'text']].copy()\n",
    "    else:\n",
    "        print(\"Required columns ('title', 'text') are missing in the DataFrame.\")\n",
    "        return None\n",
    "    \n",
    "    # Default columns and their values if not provided\n",
    "    if additional_columns_info is None:\n",
    "        additional_columns_info = {\n",
    "            'write_by': 'Human',\n",
    "            'language': 'Persian',\n",
    "            'domain': 'Wikipedia',\n",
    "            'method': np.nan,  # use np.nan for null values\n",
    "            'LLM_model': np.nan,  \n",
    "            'label': '1'  # 1 for Human labels\n",
    "        }\n",
    "    \n",
    "    # Add the additional columns with their default values\n",
    "    for column, value in additional_columns_info.items():\n",
    "        df_modified[column] = value\n",
    "    \n",
    "    # Save the modified DataFrame to a new CSV file\n",
    "    df_modified.to_csv(output_csv_path, index=False, encoding='utf-8')\n",
    "    \n",
    "    print(f'Modified DataFrame saved to: {output_csv_path}')\n",
    "    \n",
    "    return df_modified\n",
    "\n",
    "\n"
   ]
  },
  {
   "cell_type": "code",
   "execution_count": 10,
   "id": "4b248200-3f4d-46aa-b2fd-774d20ab2935",
   "metadata": {},
   "outputs": [
    {
     "name": "stdout",
     "output_type": "stream",
     "text": [
      "Modified DataFrame saved to: C:/Users/amirm/Desktop/MONASH/Thesis/Working/Prepare/Original_Datasets/miracl/miracl-corpus-v1.0-fa/3_modified_selected_rows_miracl_fa.csv\n"
     ]
    }
   ],
   "source": [
    "output_csv_name = 'C:/Users/amirm/Desktop/MONASH/Thesis/Working/Prepare/Original_Datasets/miracl/miracl-corpus-v1.0-fa/3_modified_selected_rows_miracl_fa.csv'\n",
    "modified_df = modify_and_save_df(selected_rows, output_csv_name)"
   ]
  },
  {
   "cell_type": "code",
   "execution_count": 11,
   "id": "f86ba99c-bac4-469d-aaaa-5c7b6aedd2b4",
   "metadata": {},
   "outputs": [],
   "source": [
    "def divide_and_save_csv(input_csv_path):\n",
    "    \"\"\"\n",
    "    Reads a CSV file, divides the rows into chunks of 1000, and saves them into separate CSV files in the same directory.\n",
    "    The filenames are based on unique values in the 'domain', 'language', and 'write_by' columns.\n",
    "\n",
    "    Parameters:\n",
    "    - input_csv_path: The path to the input CSV file.\n",
    "    \"\"\"\n",
    "    # Read the CSV file\n",
    "    df = pd.read_csv(input_csv_path)\n",
    "    \n",
    "    # Extract directory from the input CSV path\n",
    "    directory = os.path.dirname(input_csv_path)\n",
    "    \n",
    "    # Extracting unique values for filename components\n",
    "    domain = df['domain'].unique()[0]\n",
    "    language = df['language'].unique()[0]\n",
    "    write_by = df['write_by'].unique()[0]\n",
    "    \n",
    "    # Calculating the number of chunks\n",
    "    num_chunks = len(df) // 1000\n",
    "    if len(df) % 1000 > 0:\n",
    "        num_chunks += 1\n",
    "    \n",
    "    # Divide the DataFrame into chunks and save them\n",
    "    for i in range(num_chunks):\n",
    "        start_index = i * 1000\n",
    "        end_index = start_index + 1000\n",
    "        chunk = df.iloc[start_index:end_index]\n",
    "        \n",
    "        # Naming and saving each chunk based on its order\n",
    "        if i == 0:\n",
    "            filename = f\"{domain}_{language}_{write_by}_Topic.csv\"\n",
    "        else:\n",
    "            filename = f\"{domain}_{language}_{write_by}_Continue.csv\"\n",
    "        \n",
    "        # Constructing full path for the output file\n",
    "        output_file_path = os.path.join(directory, filename)\n",
    "        \n",
    "        chunk.to_csv(output_file_path, index=False)\n",
    "        print(f\"Chunk {i+1}/{num_chunks} saved to {output_file_path}\")\n"
   ]
  },
  {
   "cell_type": "code",
   "execution_count": 12,
   "id": "4b17de1e-3aa4-41f4-9ea0-e5832b5ee864",
   "metadata": {},
   "outputs": [
    {
     "name": "stdout",
     "output_type": "stream",
     "text": [
      "Chunk 1/2 saved to C:/Users/amirm/Desktop/MONASH/Thesis/Working/Prepare/Original_Datasets/miracl/miracl-corpus-v1.0-fa\\Wikipedia_Persian_Human_Topic.csv\n",
      "Chunk 2/2 saved to C:/Users/amirm/Desktop/MONASH/Thesis/Working/Prepare/Original_Datasets/miracl/miracl-corpus-v1.0-fa\\Wikipedia_Persian_Human_Continue.csv\n"
     ]
    }
   ],
   "source": [
    "# Specify the input CSV file name/path\n",
    "input_csv_name = 'C:/Users/amirm/Desktop/MONASH/Thesis/Working/Prepare/Original_Datasets/miracl/miracl-corpus-v1.0-fa/3_modified_selected_rows_miracl_fa.csv'\n",
    "divide_and_save_csv(input_csv_name)"
   ]
  },
  {
   "cell_type": "code",
   "execution_count": null,
   "id": "10e56b9a-a57b-40a6-8003-444dc2e16707",
   "metadata": {},
   "outputs": [],
   "source": []
  }
 ],
 "metadata": {
  "kernelspec": {
   "display_name": "Python 3 (ipykernel)",
   "language": "python",
   "name": "python3"
  },
  "language_info": {
   "codemirror_mode": {
    "name": "ipython",
    "version": 3
   },
   "file_extension": ".py",
   "mimetype": "text/x-python",
   "name": "python",
   "nbconvert_exporter": "python",
   "pygments_lexer": "ipython3",
   "version": "3.11.8"
  }
 },
 "nbformat": 4,
 "nbformat_minor": 5
}
