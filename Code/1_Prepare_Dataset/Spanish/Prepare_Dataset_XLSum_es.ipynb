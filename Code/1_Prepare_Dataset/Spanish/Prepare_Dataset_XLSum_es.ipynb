{
 "cells": [
  {
   "cell_type": "code",
   "execution_count": null,
   "id": "3eb4d764-42b9-44d2-8256-6cdc028be414",
   "metadata": {},
   "outputs": [],
   "source": [
    "# !pip install pandas"
   ]
  },
  {
   "cell_type": "code",
   "execution_count": null,
   "id": "12ed8dff-8a6b-41c3-97cf-96b967719641",
   "metadata": {},
   "outputs": [],
   "source": [
    "# pip install matplotlib"
   ]
  },
  {
   "cell_type": "code",
   "execution_count": null,
   "id": "21faadc5-7f83-4d0f-8d1b-4da8562fd12c",
   "metadata": {},
   "outputs": [],
   "source": [
    "# pip install seaborn"
   ]
  },
  {
   "cell_type": "code",
   "execution_count": 2,
   "id": "ea34d55f-8ec7-4b76-83bb-78d8225455de",
   "metadata": {},
   "outputs": [],
   "source": [
    "import os\n",
    "import glob\n",
    "import json\n",
    "import pandas as pd\n",
    "import numpy as np\n",
    "import matplotlib.pyplot as plt\n",
    "import seaborn as sns"
   ]
  },
  {
   "cell_type": "code",
   "execution_count": 2,
   "id": "f6000759-634a-4259-b2cf-dfcc1f05123a",
   "metadata": {},
   "outputs": [],
   "source": [
    "def merge_json_to_csv(json_folder_path, output_csv_path):\n",
    "    \"\"\"\n",
    "    Merges JSON files into a single CSV file.\n",
    "\n",
    "    Parameters:\n",
    "    - json_folder_path: The folder path where the JSON files are stored.\n",
    "    - output_csv_path: The path to save the merged CSV file.\n",
    "    \"\"\"\n",
    "    json_pattern = os.path.join(json_folder_path, 'spanish_*.jsonl')  # Adjust the pattern\n",
    "\n",
    "    # Find all JSON files matching the pattern\n",
    "    json_files = glob.glob(json_pattern)\n",
    "\n",
    "    # Initialize an empty list to store the data\n",
    "    data = []\n",
    "\n",
    "    # Loop through the list of files\n",
    "    for file in json_files:\n",
    "        with open(file, 'r', encoding='utf-8') as f:\n",
    "            for line in f:  # Each file contains multiple JSON objects, one per line\n",
    "                json_obj = json.loads(line)  # Convert JSON string to Python dictionary\n",
    "                data.append(json_obj)  # Add the dictionary to our list\n",
    "\n",
    "    # Convert the list of dictionaries to a pandas DataFrame\n",
    "    df = pd.DataFrame(data)\n",
    "\n",
    "    # Save the DataFrame to a CSV file\n",
    "    df.to_csv(output_csv_path, index=False, encoding='utf-8')\n",
    "\n",
    "    print(f'Merged CSV file has been saved to: {output_csv_path}')\n"
   ]
  },
  {
   "cell_type": "code",
   "execution_count": 3,
   "id": "04229b5a-c180-40ed-948d-1c01d8757356",
   "metadata": {},
   "outputs": [
    {
     "name": "stdout",
     "output_type": "stream",
     "text": [
      "Merged CSV file has been saved to: C:/Users/amirm/Desktop/MONASH/Thesis/Working/Datasets/XLSum/spanish_XLSum_v2.0\\1_merged_data.csv\n"
     ]
    }
   ],
   "source": [
    "# Define the path to JSON files and the output CSV file path\n",
    "json_folder_path = r'C:/Users/amirm/Desktop/MONASH/Thesis/Working/Prepare/Original_Datasets/XLSum/spanish_XLSum_v2.0'\n",
    "\n",
    "output_csv_path = os.path.join(json_folder_path, '1_merged_data.csv')\n",
    "\n",
    "# Call the function\n",
    "merge_json_to_csv(json_folder_path, output_csv_path)"
   ]
  },
  {
   "cell_type": "code",
   "execution_count": 3,
   "id": "d7347498-ca08-4f3d-ad1a-e625098867ca",
   "metadata": {},
   "outputs": [],
   "source": [
    "# The actual path merged CSV file\n",
    "csv_path = 'C:/Users/amirm/Desktop/MONASH/Thesis/Working/Prepare/Original_Datasets/XLSum/spanish_XLSum_v2.0/1_merged_data.csv'\n",
    "\n",
    "df = pd.read_csv(csv_path, encoding='utf-8')\n"
   ]
  },
  {
   "cell_type": "code",
   "execution_count": 4,
   "id": "85d39c25-4895-4ee3-9f6e-e91cdfcee18b",
   "metadata": {},
   "outputs": [
    {
     "name": "stdout",
     "output_type": "stream",
     "text": [
      "Total rows: 47636\n"
     ]
    }
   ],
   "source": [
    "total_rows = len(df)\n",
    "print(f'Total rows: {total_rows}')\n"
   ]
  },
  {
   "cell_type": "code",
   "execution_count": 5,
   "id": "b291b540-77b6-4177-af2d-f3ed2865b455",
   "metadata": {},
   "outputs": [
    {
     "name": "stdout",
     "output_type": "stream",
     "text": [
      "Unique titles: 47581\n"
     ]
    }
   ],
   "source": [
    "unique_titles = df['title'].nunique()\n",
    "print(f'Unique titles: {unique_titles}')\n"
   ]
  },
  {
   "cell_type": "code",
   "execution_count": 6,
   "id": "8854e91e-dbab-479a-a737-7afc5f63a17f",
   "metadata": {},
   "outputs": [
    {
     "name": "stdout",
     "output_type": "stream",
     "text": [
      "count    47636.000000\n",
      "mean       819.344970\n",
      "std        575.685694\n",
      "min         25.000000\n",
      "25%        407.000000\n",
      "50%        771.000000\n",
      "75%       1112.000000\n",
      "max       9969.000000\n",
      "Name: word_count, dtype: float64\n"
     ]
    },
    {
     "data": {
      "image/png": "[encoded data removed]",
      "text/plain": [
       "<Figure size 640x480 with 1 Axes>"
      ]
     },
     "metadata": {},
     "output_type": "display_data"
    }
   ],
   "source": [
    "# Calculate the word count for each 'text'\n",
    "df['word_count'] = df['text'].apply(lambda x: len(str(x).split()))\n",
    "\n",
    "# Descriptive statistics for word counts\n",
    "stats = df['word_count'].describe()\n",
    "print(stats)\n",
    "\n",
    "# Plotting a boxplot for the word counts\n",
    "sns.boxplot(x=df['word_count'])\n",
    "plt.title('Word Count Distribution for Spanish BBC')\n",
    "plt.xlabel('Word Count')\n",
    "# limit the x-axis to remove extreme outliers for better visualization\n",
    "plt.xlim(0, stats[\"75%\"] + 1.5 * (stats[\"75%\"] - stats[\"25%\"]))  # This limits the view to the typical range of data\n",
    "plt.show()\n"
   ]
  },
  {
   "cell_type": "code",
   "execution_count": 7,
   "id": "fe868f04-964b-45e7-944d-7430b8d2d73c",
   "metadata": {},
   "outputs": [],
   "source": [
    "def select_random_unique_titles_save_csv(df, num_titles, min_word_count, max_word_count, random_seed, output_csv_path):\n",
    "    \"\"\"\n",
    "    Selects a specified number of random rows with unique titles from a DataFrame, where each selected row's 'text' has\n",
    "    more than 'min_word_count' words and less than or equal to 'max_word_count' words, and saves the result to a CSV file.\n",
    "\n",
    "    Parameters:\n",
    "    - df: pandas DataFrame containing the data.\n",
    "    - num_titles: The number of unique titles to select.\n",
    "    - min_word_count: Minimum number of words required in the 'text' column to consider a row for selection.\n",
    "    - max_word_count: Maximum number of words allowed in the 'text' column to consider a row for selection.\n",
    "    - random_seed: The seed for the random number generator to ensure reproducibility. \n",
    "    - output_csv_path: The path to save the output CSV file. \n",
    "\n",
    "    Returns:\n",
    "    - A pandas DataFrame containing the selected rows, also saved as a CSV file.\n",
    "    \"\"\"\n",
    "    # Set a seed for reproducibility\n",
    "    np.random.seed(random_seed)\n",
    "\n",
    "    # Filter the DataFrame to only include rows with 'text' longer than 'min_word_count' and less than or equal to 'max_word_count' words\n",
    "    # Convert all values in 'text' column to string to avoid AttributeError\n",
    "    df['word_count'] = df['text'].apply(lambda x: len(str(x).split()) if pd.notnull(x) else 0)\n",
    "    # Replace the newline characters with a space\n",
    "    df['text'] = df['text'].str.replace('\\n', ' ')\n",
    "    df_filtered = df[(df['word_count'] > min_word_count) & (df['word_count'] <= max_word_count)]\n",
    "\n",
    "    # Shuffle the filtered dataset\n",
    "    df_shuffled = df_filtered.sample(frac=1).reset_index(drop=True)\n",
    "\n",
    "    # Select unique titles randomly from the filtered set\n",
    "    unique_titles = df_shuffled['title'].unique()[:num_titles]\n",
    "\n",
    "    # Initialize an empty DataFrame to store selected rows\n",
    "    selected_rows = pd.DataFrame()\n",
    "\n",
    "    for title in unique_titles:\n",
    "        # For each title, randomly select a row from the filtered set\n",
    "        rows = df_shuffled[df_shuffled['title'] == title].sample(n=1)\n",
    "        selected_rows = pd.concat([selected_rows, rows], ignore_index=True)\n",
    "\n",
    "    # Drop the 'word_count' column added for filtering\n",
    "    selected_rows = selected_rows.drop(columns=['word_count'])\n",
    "\n",
    "    # Save the selected rows to a new CSV file\n",
    "    selected_rows.to_csv(output_csv_path, index=False, encoding='utf-8')\n",
    "    \n",
    "    print(f'Selected rows saved to {output_csv_path}')\n",
    "\n",
    "    return selected_rows\n"
   ]
  },
  {
   "cell_type": "code",
   "execution_count": 8,
   "id": "bb229513-edc5-45fb-bda8-103f92a7c859",
   "metadata": {},
   "outputs": [
    {
     "name": "stdout",
     "output_type": "stream",
     "text": [
      "Selected rows saved to C:/Users/amirm/Desktop/MONASH/Thesis/Working/Prepare/Original_Datasets/XLSum/spanish_XLSum_v2.0/2_selected_unique_titles.csv\n"
     ]
    }
   ],
   "source": [
    "# Specify the output CSV file name/path\n",
    "output_csv_name = 'C:/Users/amirm/Desktop/MONASH/Thesis/Working/Prepare/Original_Datasets/XLSum/spanish_XLSum_v2.0/2_selected_unique_titles.csv'\n",
    "\n",
    "# Call the function with the DataFrame, desired parameters, and output file name\n",
    "selected_rows = select_random_unique_titles_save_csv(df, num_titles=2000,\n",
    "                                                     min_word_count=350, \n",
    "                                                     max_word_count=500, \n",
    "                                                     random_seed=42, \n",
    "                                                     output_csv_path=output_csv_name)\n"
   ]
  },
  {
   "cell_type": "code",
   "execution_count": 9,
   "id": "4449a0cf-1eac-468a-95bd-f0ce2363ba02",
   "metadata": {},
   "outputs": [
    {
     "data": {
      "text/html": [
       "<div>\n",
       "<style scoped>\n",
       "    .dataframe tbody tr th:only-of-type {\n",
       "        vertical-align: middle;\n",
       "    }\n",
       "\n",
       "    .dataframe tbody tr th {\n",
       "        vertical-align: top;\n",
       "    }\n",
       "\n",
       "    .dataframe thead th {\n",
       "        text-align: right;\n",
       "    }\n",
       "</style>\n",
       "<table border=\"1\" class=\"dataframe\">\n",
       "  <thead>\n",
       "    <tr style=\"text-align: right;\">\n",
       "      <th></th>\n",
       "      <th>id</th>\n",
       "      <th>url</th>\n",
       "      <th>title</th>\n",
       "      <th>summary</th>\n",
       "      <th>text</th>\n",
       "    </tr>\n",
       "  </thead>\n",
       "  <tbody>\n",
       "    <tr>\n",
       "      <th>0</th>\n",
       "      <td>noticias-54470370</td>\n",
       "      <td>https://www.bbc.com/mundo/noticias-54470370</td>\n",
       "      <td>Pergamino de Mao Zedong: la reliquia valorada ...</td>\n",
       "      <td>Un pergamino escrito por el líder comunista ch...</td>\n",
       "      <td>El pergamino con poesía escrita a mano por Mao...</td>\n",
       "    </tr>\n",
       "    <tr>\n",
       "      <th>1</th>\n",
       "      <td>130118_respuestas_curiosas_19enero_ch</td>\n",
       "      <td>https://www.bbc.com/mundo/noticias/2013/01/130...</td>\n",
       "      <td>¿Qué área cubrirían todos los seres humanos ju...</td>\n",
       "      <td>Cada semana, la revista BBC Focus resuelve alg...</td>\n",
       "      <td>Si todos los humanos nos paráramos juntos, ¿qu...</td>\n",
       "    </tr>\n",
       "    <tr>\n",
       "      <th>2</th>\n",
       "      <td>160504_brasil_rousseff_juicio_politico_bbc_ent...</td>\n",
       "      <td>https://www.bbc.com/mundo/noticias/2016/05/160...</td>\n",
       "      <td>Rousseff a la BBC: \"Soy una víctima inocente\"</td>\n",
       "      <td>La presidente de Brasil, Dilma Rousseff, dijo ...</td>\n",
       "      <td>Brasil atraviesa una fuerte crisis y Dilma Rou...</td>\n",
       "    </tr>\n",
       "    <tr>\n",
       "      <th>3</th>\n",
       "      <td>noticias-50269697</td>\n",
       "      <td>https://www.bbc.com/mundo/noticias-50269697</td>\n",
       "      <td>Cómo el cerebro se lava a sí mismo mientras do...</td>\n",
       "      <td>Cada 20 segundos, lentas ondas de líquido limp...</td>\n",
       "      <td>Estudios anteriores habían mostrado que el líq...</td>\n",
       "    </tr>\n",
       "    <tr>\n",
       "      <th>4</th>\n",
       "      <td>noticias-41696423</td>\n",
       "      <td>https://www.bbc.com/mundo/noticias-41696423</td>\n",
       "      <td>La tecnología que permite convertir cualquier ...</td>\n",
       "      <td>¿Eres de los que nunca encuentra el control re...</td>\n",
       "      <td>El sistema fue desarrollado por un estudiante ...</td>\n",
       "    </tr>\n",
       "    <tr>\n",
       "      <th>...</th>\n",
       "      <td>...</td>\n",
       "      <td>...</td>\n",
       "      <td>...</td>\n",
       "      <td>...</td>\n",
       "      <td>...</td>\n",
       "    </tr>\n",
       "    <tr>\n",
       "      <th>1995</th>\n",
       "      <td>noticias-42821424</td>\n",
       "      <td>https://www.bbc.com/mundo/noticias-42821424</td>\n",
       "      <td>De qué se trata la película de Bollywood que f...</td>\n",
       "      <td>Alauddin Khilji fue un emperador musulmán que ...</td>\n",
       "      <td>La protagonista de la película ha recibido ame...</td>\n",
       "    </tr>\n",
       "    <tr>\n",
       "      <th>1996</th>\n",
       "      <td>noticias-56346295</td>\n",
       "      <td>https://www.bbc.com/mundo/noticias-56346295</td>\n",
       "      <td>El plan de China y Rusia para construir una es...</td>\n",
       "      <td>China y Rusia han anunciado planes para constr...</td>\n",
       "      <td>China y Rusia utilizarán su experiencia acumul...</td>\n",
       "    </tr>\n",
       "    <tr>\n",
       "      <th>1997</th>\n",
       "      <td>noticias-america-latina-45696265</td>\n",
       "      <td>https://www.bbc.com/mundo/noticias-america-lat...</td>\n",
       "      <td>Crisis en Nicaragua: las razones del gobierno ...</td>\n",
       "      <td>Lejos de calmarse, la crisis política y social...</td>\n",
       "      <td>Nicaragua vive su peor crisis política desde l...</td>\n",
       "    </tr>\n",
       "    <tr>\n",
       "      <th>1998</th>\n",
       "      <td>noticias-43792110</td>\n",
       "      <td>https://www.bbc.com/mundo/noticias-43792110</td>\n",
       "      <td>Los Pulitzer galardonan los reportajes sobre a...</td>\n",
       "      <td>The New York Times y la revista The New Yorker...</td>\n",
       "      <td>Los informes de The New York Times y The New Y...</td>\n",
       "    </tr>\n",
       "    <tr>\n",
       "      <th>1999</th>\n",
       "      <td>noticias-39969889</td>\n",
       "      <td>https://www.bbc.com/mundo/noticias-39969889</td>\n",
       "      <td>La locura de selfies desatada por un hombre pa...</td>\n",
       "      <td>El artista australiano Matt Butterworth sabía ...</td>\n",
       "      <td>Matt Butterworth dice que le preguntan acerca ...</td>\n",
       "    </tr>\n",
       "  </tbody>\n",
       "</table>\n",
       "<p>2000 rows × 5 columns</p>\n",
       "</div>"
      ],
      "text/plain": [
       "                                                     id  \\\n",
       "0                                     noticias-54470370   \n",
       "1                 130118_respuestas_curiosas_19enero_ch   \n",
       "2     160504_brasil_rousseff_juicio_politico_bbc_ent...   \n",
       "3                                     noticias-50269697   \n",
       "4                                     noticias-41696423   \n",
       "...                                                 ...   \n",
       "1995                                  noticias-42821424   \n",
       "1996                                  noticias-56346295   \n",
       "1997                   noticias-america-latina-45696265   \n",
       "1998                                  noticias-43792110   \n",
       "1999                                  noticias-39969889   \n",
       "\n",
       "                                                    url  \\\n",
       "0           https://www.bbc.com/mundo/noticias-54470370   \n",
       "1     https://www.bbc.com/mundo/noticias/2013/01/130...   \n",
       "2     https://www.bbc.com/mundo/noticias/2016/05/160...   \n",
       "3           https://www.bbc.com/mundo/noticias-50269697   \n",
       "4           https://www.bbc.com/mundo/noticias-41696423   \n",
       "...                                                 ...   \n",
       "1995        https://www.bbc.com/mundo/noticias-42821424   \n",
       "1996        https://www.bbc.com/mundo/noticias-56346295   \n",
       "1997  https://www.bbc.com/mundo/noticias-america-lat...   \n",
       "1998        https://www.bbc.com/mundo/noticias-43792110   \n",
       "1999        https://www.bbc.com/mundo/noticias-39969889   \n",
       "\n",
       "                                                  title  \\\n",
       "0     Pergamino de Mao Zedong: la reliquia valorada ...   \n",
       "1     ¿Qué área cubrirían todos los seres humanos ju...   \n",
       "2         Rousseff a la BBC: \"Soy una víctima inocente\"   \n",
       "3     Cómo el cerebro se lava a sí mismo mientras do...   \n",
       "4     La tecnología que permite convertir cualquier ...   \n",
       "...                                                 ...   \n",
       "1995  De qué se trata la película de Bollywood que f...   \n",
       "1996  El plan de China y Rusia para construir una es...   \n",
       "1997  Crisis en Nicaragua: las razones del gobierno ...   \n",
       "1998  Los Pulitzer galardonan los reportajes sobre a...   \n",
       "1999  La locura de selfies desatada por un hombre pa...   \n",
       "\n",
       "                                                summary  \\\n",
       "0     Un pergamino escrito por el líder comunista ch...   \n",
       "1     Cada semana, la revista BBC Focus resuelve alg...   \n",
       "2     La presidente de Brasil, Dilma Rousseff, dijo ...   \n",
       "3     Cada 20 segundos, lentas ondas de líquido limp...   \n",
       "4     ¿Eres de los que nunca encuentra el control re...   \n",
       "...                                                 ...   \n",
       "1995  Alauddin Khilji fue un emperador musulmán que ...   \n",
       "1996  China y Rusia han anunciado planes para constr...   \n",
       "1997  Lejos de calmarse, la crisis política y social...   \n",
       "1998  The New York Times y la revista The New Yorker...   \n",
       "1999  El artista australiano Matt Butterworth sabía ...   \n",
       "\n",
       "                                                   text  \n",
       "0     El pergamino con poesía escrita a mano por Mao...  \n",
       "1     Si todos los humanos nos paráramos juntos, ¿qu...  \n",
       "2     Brasil atraviesa una fuerte crisis y Dilma Rou...  \n",
       "3     Estudios anteriores habían mostrado que el líq...  \n",
       "4     El sistema fue desarrollado por un estudiante ...  \n",
       "...                                                 ...  \n",
       "1995  La protagonista de la película ha recibido ame...  \n",
       "1996  China y Rusia utilizarán su experiencia acumul...  \n",
       "1997  Nicaragua vive su peor crisis política desde l...  \n",
       "1998  Los informes de The New York Times y The New Y...  \n",
       "1999  Matt Butterworth dice que le preguntan acerca ...  \n",
       "\n",
       "[2000 rows x 5 columns]"
      ]
     },
     "execution_count": 9,
     "metadata": {},
     "output_type": "execute_result"
    }
   ],
   "source": [
    "selected_rows"
   ]
  },
  {
   "cell_type": "code",
   "execution_count": 10,
   "id": "c6ae1c26-fc0f-40be-964e-add96c7547df",
   "metadata": {},
   "outputs": [],
   "source": [
    "def modify_and_save_df(df, output_csv_path, additional_columns_info=None):\n",
    "    \"\"\"\n",
    "    Modifies the DataFrame by selecting specific columns, adding new ones, and saves to a CSV file.\n",
    "    \n",
    "    Parameters:\n",
    "    - df: The DataFrame to be modified.\n",
    "    - output_csv_path: The path (including filename) where the modified DataFrame should be saved as a CSV.\n",
    "    - additional_columns_info: Dictionary with column names as keys and default values as values. Optional.\n",
    "    \n",
    "    Returns:\n",
    "    - The modified DataFrame.\n",
    "    \"\"\"\n",
    "    # Select only \"title\" and \"text\" columns if they exist in the DataFrame\n",
    "    if {'title', 'text'}.issubset(df.columns):\n",
    "        df_modified = df[['title', 'text']].copy()\n",
    "    else:\n",
    "        print(\"Required columns ('title', 'text') are missing in the DataFrame.\")\n",
    "        return None\n",
    "    \n",
    "    # Default columns and their values if not provided\n",
    "    if additional_columns_info is None:\n",
    "        additional_columns_info = {\n",
    "            'write_by': 'Human',\n",
    "            'language': 'Spanish',\n",
    "            'domain': 'BBC',\n",
    "            'method': np.nan,  # use np.nan for null values\n",
    "            'LLM_model': np.nan,\n",
    "            'label': '1'  #  1 for Human labels\n",
    "        }\n",
    "    \n",
    "    # Add the additional columns with their default values\n",
    "    for column, value in additional_columns_info.items():\n",
    "        df_modified[column] = value\n",
    "    \n",
    "    # Save the modified DataFrame to a new CSV file\n",
    "    df_modified.to_csv(output_csv_path, index=False, encoding='utf-8')\n",
    "    \n",
    "    print(f'Modified DataFrame saved to: {output_csv_path}')\n",
    "    \n",
    "    return df_modified\n",
    "\n",
    "\n"
   ]
  },
  {
   "cell_type": "code",
   "execution_count": 11,
   "id": "4b248200-3f4d-46aa-b2fd-774d20ab2935",
   "metadata": {},
   "outputs": [
    {
     "name": "stdout",
     "output_type": "stream",
     "text": [
      "Modified DataFrame saved to: C:/Users/amirm/Desktop/MONASH/Thesis/Working/Prepare/Original_Datasets/XLSum/spanish_XLSum_v2.0/3_modified_selected_rows_XLSum_es.csv\n"
     ]
    }
   ],
   "source": [
    "output_csv_name = 'C:/Users/amirm/Desktop/MONASH/Thesis/Working/Prepare/Original_Datasets/XLSum/spanish_XLSum_v2.0/3_modified_selected_rows_XLSum_es.csv'\n",
    "modified_df = modify_and_save_df(selected_rows, output_csv_name)"
   ]
  },
  {
   "cell_type": "code",
   "execution_count": 12,
   "id": "f86ba99c-bac4-469d-aaaa-5c7b6aedd2b4",
   "metadata": {},
   "outputs": [],
   "source": [
    "def divide_and_save_csv(input_csv_path):\n",
    "    \"\"\"\n",
    "    Reads a CSV file, divides the rows into chunks of 1000, and saves them into separate CSV files in the same directory.\n",
    "    The filenames are based on unique values in the 'domain', 'language', and 'write_by' columns.\n",
    "\n",
    "    Parameters:\n",
    "    - input_csv_path: The path to the input CSV file.\n",
    "    \"\"\"\n",
    "    # Read the CSV file\n",
    "    df = pd.read_csv(input_csv_path)\n",
    "    \n",
    "    # Extract directory from the input CSV path\n",
    "    directory = os.path.dirname(input_csv_path)\n",
    "    \n",
    "    # Extracting unique values for filename components\n",
    "    domain = df['domain'].unique()[0]\n",
    "    language = df['language'].unique()[0]\n",
    "    write_by = df['write_by'].unique()[0]\n",
    "    \n",
    "    # Calculating the number of chunks\n",
    "    num_chunks = len(df) // 1000\n",
    "    if len(df) % 1000 > 0:\n",
    "        num_chunks += 1\n",
    "    \n",
    "    # Divide the DataFrame into chunks and save them\n",
    "    for i in range(num_chunks):\n",
    "        start_index = i * 1000\n",
    "        end_index = start_index + 1000\n",
    "        chunk = df.iloc[start_index:end_index]\n",
    "        \n",
    "        # Naming and saving each chunk based on its order\n",
    "        if i == 0:\n",
    "            filename = f\"{domain}_{language}_{write_by}_Topic.csv\"\n",
    "        else:\n",
    "            filename = f\"{domain}_{language}_{write_by}_Continue.csv\"\n",
    "        \n",
    "        # Constructing full path for the output file\n",
    "        output_file_path = os.path.join(directory, filename)\n",
    "        \n",
    "        chunk.to_csv(output_file_path, index=False)\n",
    "        print(f\"Chunk {i+1}/{num_chunks} saved to {output_file_path}\")\n"
   ]
  },
  {
   "cell_type": "code",
   "execution_count": 13,
   "id": "23ac94e1-5b95-4211-9b07-22e0ca1c46fd",
   "metadata": {},
   "outputs": [
    {
     "name": "stdout",
     "output_type": "stream",
     "text": [
      "Chunk 1/2 saved to C:/Users/amirm/Desktop/MONASH/Thesis/Working/Prepare/Original_Datasets/XLSum/spanish_XLSum_v2.0\\BBC_Spanish_Human_Topic.csv\n",
      "Chunk 2/2 saved to C:/Users/amirm/Desktop/MONASH/Thesis/Working/Prepare/Original_Datasets/XLSum/spanish_XLSum_v2.0\\BBC_Spanish_Human_Continue.csv\n"
     ]
    }
   ],
   "source": [
    "# Specify the input CSV file name/path\n",
    "input_csv_name = 'C:/Users/amirm/Desktop/MONASH/Thesis/Working/Prepare/Original_Datasets/XLSum/spanish_XLSum_v2.0/3_modified_selected_rows_XLSum_es.csv'\n",
    "divide_and_save_csv(input_csv_name)"
   ]
  },
  {
   "cell_type": "code",
   "execution_count": null,
   "id": "dd97f5bd-5323-449e-bbb7-72a730aa7509",
   "metadata": {},
   "outputs": [],
   "source": []
  }
 ],
 "metadata": {
  "kernelspec": {
   "display_name": "Python 3 (ipykernel)",
   "language": "python",
   "name": "python3"
  },
  "language_info": {
   "codemirror_mode": {
    "name": "ipython",
    "version": 3
   },
   "file_extension": ".py",
   "mimetype": "text/x-python",
   "name": "python",
   "nbconvert_exporter": "python",
   "pygments_lexer": "ipython3",
   "version": "3.11.8"
  }
 },
 "nbformat": 4,
 "nbformat_minor": 5
}
